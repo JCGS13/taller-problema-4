{
  "nbformat": 4,
  "nbformat_minor": 0,
  "metadata": {
    "colab": {
      "provenance": [],
      "authorship_tag": "ABX9TyO5dkZAd4btZnYeKZFrdD/p",
      "include_colab_link": true
    },
    "kernelspec": {
      "name": "python3",
      "display_name": "Python 3"
    },
    "language_info": {
      "name": "python"
    }
  },
  "cells": [
    {
      "cell_type": "markdown",
      "metadata": {
        "id": "view-in-github",
        "colab_type": "text"
      },
      "source": [
        "<a href=\"https://colab.research.google.com/github/JCGS13/taller-problema-4/blob/main/cara%20o%20sello.ipynb\" target=\"_parent\"><img src=\"https://colab.research.google.com/assets/colab-badge.svg\" alt=\"Open In Colab\"/></a>"
      ]
    },
    {
      "cell_type": "code",
      "execution_count": null,
      "metadata": {
        "id": "Qc3Zqmz7noDK"
      },
      "outputs": [],
      "source": []
    },
    {
      "cell_type": "markdown",
      "source": [
        "\n",
        "1. Iniciar\n",
        "2. Definir variables; puntos = 0 (contador de puntos del usuario); intentos = 3 (número de intentos del usuario)\n",
        "3. Generar elección aleatoria de la máquina; eleccion_maquina = \"cara\" o \"sello\" (seleccionado aleatoriamente)\n",
        "4. Pedir al usuario que adivine la elección; eleccion_usuario = input del usuario (cara o sello)\n",
        "5. Comparar la elección del usuario con la elección de la máquina; Si coinciden, sumar 1 punto a puntos. Si no coinciden, restar 1 intento a intentos\n",
        "6. Mostrar resultado de la elección y número de intentos restantes\n",
        "7. Repetir pasos 3-6 mientras intentos > 0\n",
        "8. Mostrar número de puntos obtenidos al finalizar el juego\n",
        "9. Preguntar al usuario si quiere jugar de nuevo; Si responde \"si\", reiniciar el juego. Si responde \"no\", finalizar el juego.\n",
        "   10.  Finalizar."
      ],
      "metadata": {
        "id": "5ybyEDxNn4oX"
      }
    },
    {
      "cell_type": "markdown",
      "source": [
        "###pseudocodigo\n",
        "```\n",
        "\n",
        "DECLARE FLOAT puntos\n",
        "DECLARE INTEGER intentos\n",
        "DECLARE STRING eleccion_maquina\n",
        "DECLARE STRING eleccion_usuario\n",
        "DECLARE STRING jugar_de_nuevo\n",
        "DISPLAY \"Ingresa el valor inicial de puntos: \"\n",
        "INPUT puntos\n",
        "DISPLAY \"Adivina: cara o sello?\"\n",
        "INPUT elección_usuario\n",
        "DISPLAY \"Ingresa el valor de puntos para sumar: \"\n",
        "INPUT puntos\n",
        "puntos = puntos + 1.0\n",
        "DISPLAY \"¡Acertaste!\"\n",
        "ELSE\n",
        "intentos = intentos - 1\n",
        "DISPLAY \"Fallaste. La elección era \" + eleccion_maquina\n",
        "DISPLAY \"Te quedan \" + intentos + \" intentos.\"\n",
        "DISPLAY \"Obtuviste \" + puntos + \" puntos.\"\n",
        "DISPLAY \"¿Quieres jugar de nuevo? (si/no): \"\n",
        "INPUT jugar_de_nuevo\n",
        "IF jugar_de_nuevo == \"si\"\n",
        "// Reiniciar el juego\n",
        "ELSE\n",
        "DISPLAY \"¡Hasta luego!\"\n",
        "\n",
        "```\n",
        "\n",
        "\n"
      ],
      "metadata": {
        "id": "Q1CQ7J93n7Qk"
      }
    },
    {
      "cell_type": "code",
      "source": [
        "import random\n",
        "\n",
        "def juego_cara_sello():\n",
        "    puntos = 0.0\n",
        "    intentos = 3\n",
        "\n",
        "    while intentos > 0:\n",
        "        eleccion_maquina = random.choice([\"cara\", \"sello\"])\n",
        "        print(\"Adivina: cara o sello?\")\n",
        "        eleccion_usuario = input().lower()\n",
        "\n",
        "        if eleccion_usuario == eleccion_maquina:\n",
        "            print(\"¡Acertaste!\")\n",
        "            puntos += 1.0\n",
        "        else:\n",
        "            print(f\"Fallaste. La elección era {eleccion_maquina}.\")\n",
        "            intentos -= 1\n",
        "            print(f\"Te quedan {intentos} intentos.\")\n",
        "\n",
        "    print(f\"Obtuviste {float(puntos):.2f} puntos.\")\n",
        "\n",
        "    jugar_de_nuevo = input(\"¿Quieres jugar de nuevo? (si/no): \")\n",
        "    if jugar_de_nuevo.lower() == \"si\":\n",
        "        juego_cara_sello()\n",
        "    else:\n",
        "        print(\"¡Hasta luego!\")\n",
        "\n",
        "juego_cara_sello()"
      ],
      "metadata": {
        "colab": {
          "base_uri": "https://localhost:8080/"
        },
        "id": "lXQvKVCNn7xA",
        "outputId": "6d4ddfe9-f934-4214-d629-01864a472a2e"
      },
      "execution_count": null,
      "outputs": [
        {
          "output_type": "stream",
          "name": "stdout",
          "text": [
            "Adivina: cara o sello?\n"
          ]
        }
      ]
    }
  ]
}